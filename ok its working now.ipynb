{
 "cells": [
  {
   "cell_type": "code",
   "execution_count": 1,
   "id": "0145bc6d",
   "metadata": {},
   "outputs": [
    {
     "name": "stdout",
     "output_type": "stream",
     "text": [
      "Give time in 24 hurs\n"
     ]
    },
    {
     "data": {
      "application/vnd.jupyter.widget-view+json": {
       "model_id": "",
       "version_major": 2,
       "version_minor": 0
      },
      "text/plain": [
       "IntSlider(value=21, max=23)"
      ]
     },
     "metadata": {},
     "output_type": "display_data"
    },
    {
     "data": {
      "application/vnd.jupyter.widget-view+json": {
       "model_id": "",
       "version_major": 2,
       "version_minor": 0
      },
      "text/plain": [
       "IntSlider(value=39, max=59)"
      ]
     },
     "metadata": {},
     "output_type": "display_data"
    },
    {
     "data": {
      "application/vnd.jupyter.widget-view+json": {
       "model_id": "",
       "version_major": 2,
       "version_minor": 0
      },
      "text/plain": [
       "IntSlider(value=50, max=59)"
      ]
     },
     "metadata": {},
     "output_type": "display_data"
    },
    {
     "data": {
      "application/vnd.jupyter.widget-view+json": {
       "model_id": "",
       "version_major": 2,
       "version_minor": 0
      },
      "text/plain": [
       "IntSlider(value=1, max=10, min=1)"
      ]
     },
     "metadata": {},
     "output_type": "display_data"
    },
    {
     "data": {
      "application/vnd.jupyter.widget-view+json": {
       "model_id": "8d4677f875e4418dbd4193d8ef13c80c",
       "version_major": 2,
       "version_minor": 0
      },
      "text/plain": [
       "Button(description='Click Me!', style=ButtonStyle())"
      ]
     },
     "metadata": {},
     "output_type": "display_data"
    },
    {
     "name": "stdout",
     "output_type": "stream",
     "text": [
      "your alarm at 21 39 50\n",
      "21:39:43\n",
      "21:39:44\n",
      "21:39:45\n",
      "21:39:46\n",
      "21:39:47\n",
      "21:39:48\n",
      "21:39:49\n",
      "21:39:50\n",
      "its time to weack up\n",
      "21:39:50\n"
     ]
    }
   ],
   "source": [
    "import ipywidgets as widgets\n",
    "import time\n",
    "import datetime\n",
    "from IPython.display import display\n",
    "import random\n",
    "import winsound\n",
    "import multiprocessing\n",
    "import threading\n",
    "import sys\n",
    "\n",
    "x = 1\n",
    "\n",
    "class Start():\n",
    "    def __init__(self,time):\n",
    "        self.time = time\n",
    "        \n",
    "    def alarm_working(self):\n",
    "        while True:\n",
    "            time.sleep(1)\n",
    "            now = datetime.datetime.now()\n",
    "            now_time=now.strftime(\"%H:%M:%S\")\n",
    "\n",
    "            print(now_time)\n",
    "            if now_time==self.time:\n",
    "\n",
    "                print(\"its time to weack up\")\n",
    "                return self.time\n",
    "            \n",
    "            if now_time > self.time:\n",
    "                \n",
    "                return \"you failed\"\n",
    "            \n",
    "            \n",
    "            \n",
    "            \n",
    "            \n",
    "            \n",
    "            \n",
    "            \n",
    "            \n",
    "            \n",
    "            \n",
    "            \n",
    "            \n",
    "def to_off_alarm(level_in_1):\n",
    "    num = 1\n",
    "    given_num3 = 0\n",
    "    #winsound.PlaySound(\"sound.wav\",winsound.SND_ASYNC)\n",
    "\n",
    "    while (num <= level_in_1 and num <= 3):\n",
    "        num1 = random.randint(0,100)\n",
    "        num2 = random.randint(0,100)\n",
    "        num3 = num1 + num2 \n",
    "        #print(num3)\n",
    "        print(f\"level = {num}\")\n",
    "        print(f\"{num1} + {num2} =\")\n",
    "        given_num3 = int(input(\"enter a number \"))\n",
    "        if(given_num3 == num3):\n",
    "            print(\"ok\")\n",
    "            num = num + 1\n",
    "        if(num == level_in_1):\n",
    "            break\n",
    "        else:\n",
    "            continue\n",
    "        \n",
    "    while(num <= level_in_1 and num > 3):\n",
    "        num1 = random.randint(0,20)\n",
    "        num2 = random.randint(0,10)\n",
    "        num3 = num1 * num2 \n",
    "        #print(num3)\n",
    "        print(f\"level = {num}\")\n",
    "        print(f\"{num1} * {num2} =\")\n",
    "        given_num3 = int(input(\"enter a number \"))\n",
    "        if(int(given_num3) == num3):\n",
    "            print(\"ok\")\n",
    "            num = num + 1\n",
    "        if(num == level_in_1):\n",
    "            break\n",
    "        else:\n",
    "            continue\n",
    "    global x\n",
    "    x = 0\n",
    "    \n",
    "            \n",
    "    \n",
    "            \n",
    "            \n",
    "            \n",
    "            \n",
    "            \n",
    "\n",
    "\n",
    "            \n",
    "            \n",
    "def sound_effect(level_2):\n",
    "    global x\n",
    "    while True:\n",
    "        if x == 0:\n",
    "            break\n",
    "        winsound.Beep(frequency=100 , duration = 50)\n",
    "        \n",
    "    \n",
    "    \n",
    "def func1(level):\n",
    "    p1 = threading.Thread(target=to_off_alarm,args=(level,))\n",
    "    p2 = threading.Thread(target=sound_effect,args=(2,))\n",
    "    p1.start()\n",
    "    p2.start()\n",
    "    p1.join()\n",
    "    p2.join()\n",
    "    print(p1)\n",
    "    print(p2)\n",
    "    \n",
    "    \n",
    "    \n",
    "    \n",
    "print(\"Give time in 24 hurs\")\n",
    "#alarm = datetime.time()\n",
    "now_2 = datetime.datetime.now()\n",
    "hour = widgets.IntSlider(min = 0, max = 23,value = now_2.hour)\n",
    "miniet = widgets.IntSlider(min = 0, max = 59,value = now_2.minute)\n",
    "second = widgets.IntSlider(min = 0, max = 59,value = now_2.second+10)\n",
    "level = widgets.IntSlider(min =1,max = 10,value = 1)\n",
    "display(hour)\n",
    "display(miniet)\n",
    "display(second)\n",
    "display(level)\n",
    "\n",
    "\n",
    "button = widgets.Button(description=\"Click Me!\")\n",
    "display(button)\n",
    "\n",
    "def on_button_clicked(b):\n",
    "    \n",
    "    print(f\"your alarm at {hour.value} {miniet.value} {second.value}\")\n",
    "    hour.close()\n",
    "    miniet.close()\n",
    "    second.close()\n",
    "    level.close()\n",
    "    time2 = datetime.time(hour=hour.value,second=second.value,minute=miniet.value)\n",
    "    time2_now = time2.strftime(\"%H:%M:%S\")\n",
    "    start1 = Start(time2_now)\n",
    "    \n",
    "    p1 = start1.alarm_working()\n",
    "    print(p1)\n",
    "    \n",
    "    \n",
    "\n",
    "button.on_click(on_button_clicked)\n",
    "\n"
   ]
  },
  {
   "cell_type": "code",
   "execution_count": 2,
   "id": "3cf46312",
   "metadata": {},
   "outputs": [
    {
     "name": "stdout",
     "output_type": "stream",
     "text": [
      "level = 1\n",
      "75 + 55 =\n",
      "enter a number 80\n",
      "<Thread(Thread-5 (to_off_alarm), stopped 16136)>\n",
      "<Thread(Thread-6 (sound_effect), stopped 13496)>\n"
     ]
    }
   ],
   "source": [
    "func1(level.value)"
   ]
  },
  {
   "cell_type": "code",
   "execution_count": null,
   "id": "16a5da58",
   "metadata": {},
   "outputs": [],
   "source": []
  }
 ],
 "metadata": {
  "kernelspec": {
   "display_name": "Python 3 (ipykernel)",
   "language": "python",
   "name": "python3"
  },
  "language_info": {
   "codemirror_mode": {
    "name": "ipython",
    "version": 3
   },
   "file_extension": ".py",
   "mimetype": "text/x-python",
   "name": "python",
   "nbconvert_exporter": "python",
   "pygments_lexer": "ipython3",
   "version": "3.10.2"
  }
 },
 "nbformat": 4,
 "nbformat_minor": 5
}
